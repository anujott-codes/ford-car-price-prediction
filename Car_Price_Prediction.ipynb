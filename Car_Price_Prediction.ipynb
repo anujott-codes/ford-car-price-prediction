{
  "metadata": {
    "kernelspec": {
      "language": "python",
      "display_name": "Python 3",
      "name": "python3"
    },
    "language_info": {
      "name": "python",
      "version": "3.11.13",
      "mimetype": "text/x-python",
      "codemirror_mode": {
        "name": "ipython",
        "version": 3
      },
      "pygments_lexer": "ipython3",
      "nbconvert_exporter": "python",
      "file_extension": ".py"
    },
    "kaggle": {
      "accelerator": "none",
      "dataSources": [
        {
          "sourceId": 3442322,
          "sourceType": "datasetVersion",
          "datasetId": 2073626
        }
      ],
      "dockerImageVersionId": 31089,
      "isInternetEnabled": false,
      "language": "python",
      "sourceType": "notebook",
      "isGpuEnabled": false
    },
    "colab": {
      "provenance": [],
      "include_colab_link": true
    }
  },
  "nbformat_minor": 0,
  "nbformat": 4,
  "cells": [
    {
      "cell_type": "markdown",
      "metadata": {
        "id": "view-in-github",
        "colab_type": "text"
      },
      "source": [
        "<a href=\"https://colab.research.google.com/github/anujott-codes/ford-car-price-prediction/blob/main/Car_Price_Prediction.ipynb\" target=\"_parent\"><img src=\"https://colab.research.google.com/assets/colab-badge.svg\" alt=\"Open In Colab\"/></a>"
      ]
    },
    {
      "source": [
        "# IMPORTANT: RUN THIS CELL IN ORDER TO IMPORT YOUR KAGGLE DATA SOURCES,\n",
        "# THEN FEEL FREE TO DELETE THIS CELL.\n",
        "# NOTE: THIS NOTEBOOK ENVIRONMENT DIFFERS FROM KAGGLE'S PYTHON\n",
        "# ENVIRONMENT SO THERE MAY BE MISSING LIBRARIES USED BY YOUR\n",
        "# NOTEBOOK.\n",
        "import kagglehub\n",
        "adhurimquku_ford_car_price_prediction_path = kagglehub.dataset_download('adhurimquku/ford-car-price-prediction')\n",
        "\n",
        "print('Data source import complete.')\n"
      ],
      "metadata": {
        "id": "69HdlX_S_z1E"
      },
      "cell_type": "code",
      "outputs": [],
      "execution_count": null
    },
    {
      "cell_type": "code",
      "source": [
        "# This Python 3 environment comes with many helpful analytics libraries installed\n",
        "# It is defined by the kaggle/python Docker image: https://github.com/kaggle/docker-python\n",
        "# For example, here's several helpful packages to load\n",
        "\n",
        "import numpy as np # linear algebra\n",
        "import pandas as pd # data processing, CSV file I/O (e.g. pd.read_csv)\n",
        "\n",
        "# Input data files are available in the read-only \"../input/\" directory\n",
        "# For example, running this (by clicking run or pressing Shift+Enter) will list all files under the input directory\n",
        "\n",
        "import os\n",
        "for dirname, _, filenames in os.walk('/kaggle/input'):\n",
        "    for filename in filenames:\n",
        "        print(os.path.join(dirname, filename))\n",
        "\n",
        "# You can write up to 20GB to the current directory (/kaggle/working/) that gets preserved as output when you create a version using \"Save & Run All\"\n",
        "# You can also write temporary files to /kaggle/temp/, but they won't be saved outside of the current session"
      ],
      "metadata": {
        "_uuid": "8f2839f25d086af736a60e9eeb907d3b93b6e0e5",
        "_cell_guid": "b1076dfc-b9ad-4769-8c92-a6c4dae69d19",
        "trusted": true,
        "execution": {
          "iopub.status.busy": "2025-07-30T19:25:15.278298Z",
          "iopub.execute_input": "2025-07-30T19:25:15.278564Z",
          "iopub.status.idle": "2025-07-30T19:25:15.285058Z",
          "shell.execute_reply.started": "2025-07-30T19:25:15.278545Z",
          "shell.execute_reply": "2025-07-30T19:25:15.284038Z"
        },
        "id": "yBb_6qLB_z1G"
      },
      "outputs": [],
      "execution_count": null
    },
    {
      "cell_type": "markdown",
      "source": [
        "# Data Loading"
      ],
      "metadata": {
        "id": "5oWXtDoz_z1H"
      }
    },
    {
      "cell_type": "code",
      "source": [
        "#importing libraries\n",
        "import numpy as np\n",
        "import pandas as pd\n",
        "import matplotlib.pyplot as plt\n",
        "import seaborn as sns\n",
        "import scipy.stats as stats\n",
        "import warnings\n",
        "warnings.filterwarnings('ignore')"
      ],
      "metadata": {
        "trusted": true,
        "execution": {
          "iopub.status.busy": "2025-07-30T19:25:15.286679Z",
          "iopub.execute_input": "2025-07-30T19:25:15.287061Z",
          "iopub.status.idle": "2025-07-30T19:25:15.306617Z",
          "shell.execute_reply.started": "2025-07-30T19:25:15.287031Z",
          "shell.execute_reply": "2025-07-30T19:25:15.305662Z"
        },
        "id": "MJsPya48_z1I"
      },
      "outputs": [],
      "execution_count": null
    },
    {
      "cell_type": "code",
      "source": [
        "df = pd.read_csv(\"/kaggle/input/ford-car-price-prediction/ford.csv\")\n",
        "df.head()"
      ],
      "metadata": {
        "trusted": true,
        "execution": {
          "iopub.status.busy": "2025-07-30T19:25:15.307515Z",
          "iopub.execute_input": "2025-07-30T19:25:15.3078Z",
          "iopub.status.idle": "2025-07-30T19:25:15.354179Z",
          "shell.execute_reply.started": "2025-07-30T19:25:15.307776Z",
          "shell.execute_reply": "2025-07-30T19:25:15.353174Z"
        },
        "id": "LwqHa4HJ_z1I"
      },
      "outputs": [],
      "execution_count": null
    },
    {
      "cell_type": "code",
      "source": [
        "df.shape"
      ],
      "metadata": {
        "trusted": true,
        "execution": {
          "iopub.status.busy": "2025-07-30T19:25:15.356112Z",
          "iopub.execute_input": "2025-07-30T19:25:15.356386Z",
          "iopub.status.idle": "2025-07-30T19:25:15.362614Z",
          "shell.execute_reply.started": "2025-07-30T19:25:15.356364Z",
          "shell.execute_reply": "2025-07-30T19:25:15.361904Z"
        },
        "id": "MpTx3Y6j_z1I"
      },
      "outputs": [],
      "execution_count": null
    },
    {
      "cell_type": "code",
      "source": [
        "#basic info about the data\n",
        "df.info()"
      ],
      "metadata": {
        "trusted": true,
        "execution": {
          "iopub.status.busy": "2025-07-30T19:25:15.363782Z",
          "iopub.execute_input": "2025-07-30T19:25:15.364178Z",
          "iopub.status.idle": "2025-07-30T19:25:15.389706Z",
          "shell.execute_reply.started": "2025-07-30T19:25:15.364147Z",
          "shell.execute_reply": "2025-07-30T19:25:15.38873Z"
        },
        "id": "Az2OQ-bh_z1I"
      },
      "outputs": [],
      "execution_count": null
    },
    {
      "cell_type": "code",
      "source": [
        "#statistical knowledge\n",
        "df.describe()"
      ],
      "metadata": {
        "trusted": true,
        "execution": {
          "iopub.status.busy": "2025-07-30T19:25:15.390539Z",
          "iopub.execute_input": "2025-07-30T19:25:15.390772Z",
          "iopub.status.idle": "2025-07-30T19:25:15.418196Z",
          "shell.execute_reply.started": "2025-07-30T19:25:15.390736Z",
          "shell.execute_reply": "2025-07-30T19:25:15.417326Z"
        },
        "id": "WSmSx1UB_z1J"
      },
      "outputs": [],
      "execution_count": null
    },
    {
      "cell_type": "markdown",
      "source": [
        "# *Problems:*\n",
        "* Future Year (2060)\n",
        "* Too high mpg (201.8)\n",
        "* engineSize (0)"
      ],
      "metadata": {
        "id": "ivUHfQO7_z1J"
      }
    },
    {
      "cell_type": "code",
      "source": [
        "#checking null values\n",
        "df.isnull().sum()"
      ],
      "metadata": {
        "trusted": true,
        "execution": {
          "iopub.status.busy": "2025-07-30T19:25:15.419287Z",
          "iopub.execute_input": "2025-07-30T19:25:15.419587Z",
          "iopub.status.idle": "2025-07-30T19:25:15.430101Z",
          "shell.execute_reply.started": "2025-07-30T19:25:15.419565Z",
          "shell.execute_reply": "2025-07-30T19:25:15.429109Z"
        },
        "id": "9IEablH3_z1J"
      },
      "outputs": [],
      "execution_count": null
    },
    {
      "cell_type": "markdown",
      "source": [
        "# EDA"
      ],
      "metadata": {
        "id": "8jM_PILH_z1J"
      }
    },
    {
      "cell_type": "code",
      "source": [
        "#checking for cars with future years\n",
        "df[df['year'] > 2025]"
      ],
      "metadata": {
        "trusted": true,
        "execution": {
          "iopub.status.busy": "2025-07-30T19:25:15.431623Z",
          "iopub.execute_input": "2025-07-30T19:25:15.431962Z",
          "iopub.status.idle": "2025-07-30T19:25:15.452198Z",
          "shell.execute_reply.started": "2025-07-30T19:25:15.43194Z",
          "shell.execute_reply": "2025-07-30T19:25:15.451373Z"
        },
        "id": "feQnflHF_z1J"
      },
      "outputs": [],
      "execution_count": null
    },
    {
      "cell_type": "code",
      "source": [
        "#just a single record so can be dropped\n",
        "#dropping false record\n",
        "df = df[df['year'] <= 2025]"
      ],
      "metadata": {
        "trusted": true,
        "execution": {
          "iopub.status.busy": "2025-07-30T19:25:15.454441Z",
          "iopub.execute_input": "2025-07-30T19:25:15.455257Z",
          "iopub.status.idle": "2025-07-30T19:25:15.469367Z",
          "shell.execute_reply.started": "2025-07-30T19:25:15.455195Z",
          "shell.execute_reply": "2025-07-30T19:25:15.468576Z"
        },
        "id": "fkfhY3jV_z1K"
      },
      "outputs": [],
      "execution_count": null
    },
    {
      "cell_type": "code",
      "source": [
        "#checking for records with unrealistic too high mpg\n",
        "df[df['mpg']>100]"
      ],
      "metadata": {
        "trusted": true,
        "execution": {
          "iopub.status.busy": "2025-07-30T19:25:15.470436Z",
          "iopub.execute_input": "2025-07-30T19:25:15.470767Z",
          "iopub.status.idle": "2025-07-30T19:25:15.493475Z",
          "shell.execute_reply.started": "2025-07-30T19:25:15.470733Z",
          "shell.execute_reply": "2025-07-30T19:25:15.492225Z"
        },
        "id": "lLMeqQS7_z1K"
      },
      "outputs": [],
      "execution_count": null
    },
    {
      "cell_type": "code",
      "source": [
        "# Imputed realistic MPG for Ford Kuga 2020 Hybrid 2.5L\n",
        "# Source: https://www.ford.co.uk/cars/kuga/specs\n",
        "df.loc[df['mpg']>100,'mpg'] = 49.7"
      ],
      "metadata": {
        "trusted": true,
        "execution": {
          "iopub.status.busy": "2025-07-30T19:25:15.495674Z",
          "iopub.execute_input": "2025-07-30T19:25:15.49612Z",
          "iopub.status.idle": "2025-07-30T19:25:15.508221Z",
          "shell.execute_reply.started": "2025-07-30T19:25:15.496087Z",
          "shell.execute_reply": "2025-07-30T19:25:15.507314Z"
        },
        "id": "bAYmHxDB_z1K"
      },
      "outputs": [],
      "execution_count": null
    },
    {
      "cell_type": "code",
      "source": [
        "#rechecking for any unrealistic value and proper imputation\n",
        "df[df['mpg']>100]"
      ],
      "metadata": {
        "trusted": true,
        "execution": {
          "iopub.status.busy": "2025-07-30T19:25:15.509224Z",
          "iopub.execute_input": "2025-07-30T19:25:15.509521Z",
          "iopub.status.idle": "2025-07-30T19:25:15.529001Z",
          "shell.execute_reply.started": "2025-07-30T19:25:15.509495Z",
          "shell.execute_reply": "2025-07-30T19:25:15.528096Z"
        },
        "id": "xslqdw_Y_z1K"
      },
      "outputs": [],
      "execution_count": null
    },
    {
      "cell_type": "code",
      "source": [
        "#checking for records with engineSize -> 0\n",
        "df[df['engineSize'] == 0]"
      ],
      "metadata": {
        "trusted": true,
        "execution": {
          "iopub.status.busy": "2025-07-30T19:25:15.530091Z",
          "iopub.execute_input": "2025-07-30T19:25:15.530439Z",
          "iopub.status.idle": "2025-07-30T19:25:15.559296Z",
          "shell.execute_reply.started": "2025-07-30T19:25:15.530403Z",
          "shell.execute_reply": "2025-07-30T19:25:15.558392Z"
        },
        "id": "nPOCmHWT_z1K"
      },
      "outputs": [],
      "execution_count": null
    },
    {
      "cell_type": "code",
      "source": [
        "#many records so need imputation\n",
        "#replacing 0 -> nan\n",
        "df['engineSize'] = df['engineSize'].replace(0,np.nan)\n",
        "df.isnull().sum()"
      ],
      "metadata": {
        "trusted": true,
        "execution": {
          "iopub.status.busy": "2025-07-30T19:25:15.560314Z",
          "iopub.execute_input": "2025-07-30T19:25:15.560652Z",
          "iopub.status.idle": "2025-07-30T19:25:15.5831Z",
          "shell.execute_reply.started": "2025-07-30T19:25:15.560625Z",
          "shell.execute_reply": "2025-07-30T19:25:15.582288Z"
        },
        "id": "EbOjtDab_z1K"
      },
      "outputs": [],
      "execution_count": null
    },
    {
      "cell_type": "code",
      "source": [
        "#checking median engineSize per model per fueltype\n",
        "median_engineSizes = df.groupby(['model','fuelType'])['engineSize'].median().reset_index()\n",
        "median_engineSizes"
      ],
      "metadata": {
        "trusted": true,
        "execution": {
          "iopub.status.busy": "2025-07-30T19:25:15.586009Z",
          "iopub.execute_input": "2025-07-30T19:25:15.586243Z",
          "iopub.status.idle": "2025-07-30T19:25:15.606682Z",
          "shell.execute_reply.started": "2025-07-30T19:25:15.586225Z",
          "shell.execute_reply": "2025-07-30T19:25:15.605882Z"
        },
        "id": "6p3ZtNZh_z1K"
      },
      "outputs": [],
      "execution_count": null
    },
    {
      "cell_type": "code",
      "source": [
        "median_engineSizes.rename(columns={'engineSize': 'median_engineSize'}, inplace=True)\n",
        "\n",
        "#merging this df to original df\n",
        "df = df.merge(median_engineSizes, on=['model', 'fuelType'], how='left')\n",
        "\n",
        "#imputing null values\n",
        "df['engineSize'] = df['engineSize'].fillna(df['median_engineSize'])\n",
        "\n",
        "#dropping helper column\n",
        "df.drop(columns='median_engineSize', inplace=True)\n",
        "\n",
        "df.head()"
      ],
      "metadata": {
        "trusted": true,
        "execution": {
          "iopub.status.busy": "2025-07-30T19:25:15.607512Z",
          "iopub.execute_input": "2025-07-30T19:25:15.607756Z",
          "iopub.status.idle": "2025-07-30T19:25:15.631403Z",
          "shell.execute_reply.started": "2025-07-30T19:25:15.607734Z",
          "shell.execute_reply": "2025-07-30T19:25:15.63048Z"
        },
        "id": "c0xj2odJ_z1K"
      },
      "outputs": [],
      "execution_count": null
    },
    {
      "cell_type": "code",
      "source": [
        "#checking for any remaing null value or inconsistency in engineSize\n",
        "df.isnull().sum()"
      ],
      "metadata": {
        "trusted": true,
        "execution": {
          "iopub.status.busy": "2025-07-30T19:25:15.632372Z",
          "iopub.execute_input": "2025-07-30T19:25:15.632689Z",
          "iopub.status.idle": "2025-07-30T19:25:15.643141Z",
          "shell.execute_reply.started": "2025-07-30T19:25:15.632665Z",
          "shell.execute_reply": "2025-07-30T19:25:15.642174Z"
        },
        "id": "HsvXntqG_z1K"
      },
      "outputs": [],
      "execution_count": null
    },
    {
      "cell_type": "code",
      "source": [
        "df[df['engineSize'].isnull()]"
      ],
      "metadata": {
        "trusted": true,
        "execution": {
          "iopub.status.busy": "2025-07-30T19:25:15.644116Z",
          "iopub.execute_input": "2025-07-30T19:25:15.644411Z",
          "iopub.status.idle": "2025-07-30T19:25:15.660321Z",
          "shell.execute_reply.started": "2025-07-30T19:25:15.644382Z",
          "shell.execute_reply": "2025-07-30T19:25:15.659517Z"
        },
        "id": "iQlh7M0e_z1K"
      },
      "outputs": [],
      "execution_count": null
    },
    {
      "cell_type": "code",
      "source": [
        "# Impute engineSize for 2019 Ford Puma Hybrid with Realistic value\n",
        "df['engineSize'] = df['engineSize'].fillna(1.0)"
      ],
      "metadata": {
        "trusted": true,
        "execution": {
          "iopub.status.busy": "2025-07-30T19:25:15.661259Z",
          "iopub.execute_input": "2025-07-30T19:25:15.6615Z",
          "iopub.status.idle": "2025-07-30T19:25:15.675721Z",
          "shell.execute_reply.started": "2025-07-30T19:25:15.66148Z",
          "shell.execute_reply": "2025-07-30T19:25:15.674816Z"
        },
        "id": "j5L2rg5C_z1K"
      },
      "outputs": [],
      "execution_count": null
    },
    {
      "cell_type": "code",
      "source": [
        "#final check for inconsistency\n",
        "df[df['engineSize'].isnull()]"
      ],
      "metadata": {
        "trusted": true,
        "execution": {
          "iopub.status.busy": "2025-07-30T19:25:15.676665Z",
          "iopub.execute_input": "2025-07-30T19:25:15.676927Z",
          "iopub.status.idle": "2025-07-30T19:25:15.696617Z",
          "shell.execute_reply.started": "2025-07-30T19:25:15.676906Z",
          "shell.execute_reply": "2025-07-30T19:25:15.695685Z"
        },
        "id": "_Z6aQe9d_z1K"
      },
      "outputs": [],
      "execution_count": null
    },
    {
      "cell_type": "code",
      "source": [
        "#final check for inconsistency\n",
        "df.isnull().sum()"
      ],
      "metadata": {
        "trusted": true,
        "execution": {
          "iopub.status.busy": "2025-07-30T19:25:15.697606Z",
          "iopub.execute_input": "2025-07-30T19:25:15.697931Z",
          "iopub.status.idle": "2025-07-30T19:25:15.719308Z",
          "shell.execute_reply.started": "2025-07-30T19:25:15.697909Z",
          "shell.execute_reply": "2025-07-30T19:25:15.718301Z"
        },
        "id": "Y3TVb5OX_z1L"
      },
      "outputs": [],
      "execution_count": null
    },
    {
      "cell_type": "code",
      "source": [
        "def distplot(col,num):\n",
        "    plt.subplot(3,2,num)\n",
        "    sns.histplot(data = df,x = col,kde = True)\n",
        "    plt.title(f'{col}')\n",
        "    plt.tight_layout()"
      ],
      "metadata": {
        "trusted": true,
        "execution": {
          "iopub.status.busy": "2025-07-30T19:28:32.877461Z",
          "iopub.execute_input": "2025-07-30T19:28:32.877758Z",
          "iopub.status.idle": "2025-07-30T19:28:32.882759Z",
          "shell.execute_reply.started": "2025-07-30T19:28:32.877734Z",
          "shell.execute_reply": "2025-07-30T19:28:32.881887Z"
        },
        "id": "cCsNoJG5_z1L"
      },
      "outputs": [],
      "execution_count": null
    },
    {
      "cell_type": "code",
      "source": [
        "plt.figure(figsize=(14,14))\n",
        "distplot('price',1)\n",
        "plt.show()"
      ],
      "metadata": {
        "trusted": true,
        "execution": {
          "iopub.status.busy": "2025-07-30T19:28:38.194935Z",
          "iopub.execute_input": "2025-07-30T19:28:38.195253Z",
          "iopub.status.idle": "2025-07-30T19:28:38.892303Z",
          "shell.execute_reply.started": "2025-07-30T19:28:38.195228Z",
          "shell.execute_reply": "2025-07-30T19:28:38.891373Z"
        },
        "id": "nb1lSQId_z1L"
      },
      "outputs": [],
      "execution_count": null
    },
    {
      "cell_type": "markdown",
      "source": [
        "price -> right skewed"
      ],
      "metadata": {
        "id": "HuPTV37M_z1L"
      }
    },
    {
      "cell_type": "code",
      "source": [
        "#heatmap to check correlation between numeric cols and price\n",
        "sns.heatmap(df.corr(numeric_only = True),annot=True)"
      ],
      "metadata": {
        "trusted": true,
        "execution": {
          "iopub.status.busy": "2025-07-30T19:25:16.178572Z",
          "iopub.execute_input": "2025-07-30T19:25:16.178985Z",
          "iopub.status.idle": "2025-07-30T19:25:16.496098Z",
          "shell.execute_reply.started": "2025-07-30T19:25:16.178956Z",
          "shell.execute_reply": "2025-07-30T19:25:16.495136Z"
        },
        "id": "U4tiQHmX_z1L"
      },
      "outputs": [],
      "execution_count": null
    },
    {
      "cell_type": "code",
      "source": [
        "#selecting numeric features\n",
        "numeric_features = df.select_dtypes(include='number').columns.to_list()\n",
        "numeric_features.remove('price')\n",
        "numeric_features"
      ],
      "metadata": {
        "trusted": true,
        "execution": {
          "iopub.status.busy": "2025-07-30T19:25:16.497174Z",
          "iopub.execute_input": "2025-07-30T19:25:16.497483Z",
          "iopub.status.idle": "2025-07-30T19:25:16.505693Z",
          "shell.execute_reply.started": "2025-07-30T19:25:16.497463Z",
          "shell.execute_reply": "2025-07-30T19:25:16.504817Z"
        },
        "id": "KGepi4SH_z1L"
      },
      "outputs": [],
      "execution_count": null
    },
    {
      "cell_type": "code",
      "source": [
        "#plotting distribution for all numeric features\n",
        "plt.figure(figsize=(14,14))\n",
        "for i,col in enumerate(numeric_features):\n",
        "    distplot(col,i+1)\n",
        "\n",
        "plt.show()"
      ],
      "metadata": {
        "trusted": true,
        "execution": {
          "iopub.status.busy": "2025-07-30T19:29:08.722601Z",
          "iopub.execute_input": "2025-07-30T19:29:08.722959Z",
          "iopub.status.idle": "2025-07-30T19:29:11.189483Z",
          "shell.execute_reply.started": "2025-07-30T19:29:08.722932Z",
          "shell.execute_reply": "2025-07-30T19:29:11.188671Z"
        },
        "id": "HL79S4Ma_z1L"
      },
      "outputs": [],
      "execution_count": null
    },
    {
      "cell_type": "code",
      "source": [
        "#function for plotting countplot\n",
        "def countplot(col,num):\n",
        "    plt.subplot(3,2,num)\n",
        "    sns.countplot(data = df,x = col)\n",
        "    plt.title(f'{col}')\n",
        "    plt.xticks(rotation = 90)\n",
        "    plt.tight_layout()"
      ],
      "metadata": {
        "trusted": true,
        "execution": {
          "iopub.status.busy": "2025-07-30T19:34:05.186343Z",
          "iopub.execute_input": "2025-07-30T19:34:05.186628Z",
          "iopub.status.idle": "2025-07-30T19:34:05.192247Z",
          "shell.execute_reply.started": "2025-07-30T19:34:05.186607Z",
          "shell.execute_reply": "2025-07-30T19:34:05.191298Z"
        },
        "id": "gxdZdTGY_z1L"
      },
      "outputs": [],
      "execution_count": null
    },
    {
      "cell_type": "code",
      "source": [
        "cat_features = ['model','transmission','fuelType']\n",
        "#plotting countplot for all categorical features\n",
        "plt.figure(figsize=(14,14))\n",
        "for i,col in enumerate(cat_features):\n",
        "    countplot(col,i+1)\n",
        "\n",
        "plt.show()"
      ],
      "metadata": {
        "trusted": true,
        "execution": {
          "iopub.status.busy": "2025-07-30T19:34:07.478454Z",
          "iopub.execute_input": "2025-07-30T19:34:07.478773Z",
          "iopub.status.idle": "2025-07-30T19:34:08.216415Z",
          "shell.execute_reply.started": "2025-07-30T19:34:07.478749Z",
          "shell.execute_reply": "2025-07-30T19:34:08.215442Z"
        },
        "id": "D0XqZuXw_z1L"
      },
      "outputs": [],
      "execution_count": null
    },
    {
      "cell_type": "code",
      "source": [
        "#checking for imbalance in transmission\n",
        "df['transmission'].value_counts(normalize=True)\n"
      ],
      "metadata": {
        "trusted": true,
        "execution": {
          "iopub.status.busy": "2025-07-30T19:36:54.271009Z",
          "iopub.execute_input": "2025-07-30T19:36:54.271307Z",
          "iopub.status.idle": "2025-07-30T19:36:54.281417Z",
          "shell.execute_reply.started": "2025-07-30T19:36:54.271284Z",
          "shell.execute_reply": "2025-07-30T19:36:54.280605Z"
        },
        "id": "9CT_TiGw_z1L"
      },
      "outputs": [],
      "execution_count": null
    },
    {
      "cell_type": "code",
      "source": [
        "plt.figure(figsize=(8,5))\n",
        "sns.boxplot(data=df, x='transmission', y='price')\n",
        "plt.title('Price Distribution by Transmission Type')\n",
        "plt.show()"
      ],
      "metadata": {
        "trusted": true,
        "execution": {
          "iopub.status.busy": "2025-07-30T19:37:18.432996Z",
          "iopub.execute_input": "2025-07-30T19:37:18.433306Z",
          "iopub.status.idle": "2025-07-30T19:37:18.609352Z",
          "shell.execute_reply.started": "2025-07-30T19:37:18.433281Z",
          "shell.execute_reply": "2025-07-30T19:37:18.60847Z"
        },
        "id": "0o7UChLl_z1L"
      },
      "outputs": [],
      "execution_count": null
    },
    {
      "cell_type": "code",
      "source": [
        "#ANOVA for checking significance of transmission\n",
        "#Null Hypothesis (H₀): All transmission types have same average car price\n",
        "#Alternative Hypothesis (H₁): At least one transmission type has a different average car price\n",
        "\n",
        "from scipy.stats import f_oneway\n",
        "\n",
        "manual_prices = df[df['transmission'] == 'Manual']['price']\n",
        "auto_prices = df[df['transmission'] == 'Automatic']['price']\n",
        "semi_auto_prices = df[df['transmission'] == 'Semi-Auto']['price']\n",
        "\n",
        "f_stat, p_val = f_oneway(manual_prices, auto_prices, semi_auto_prices)\n",
        "print(f\"ANOVA F-statistic: {f_stat:.4f}, p-value: {p_val:.4f}\")"
      ],
      "metadata": {
        "trusted": true,
        "execution": {
          "iopub.status.busy": "2025-07-30T19:42:34.34681Z",
          "iopub.execute_input": "2025-07-30T19:42:34.34744Z",
          "iopub.status.idle": "2025-07-30T19:42:34.367189Z",
          "shell.execute_reply.started": "2025-07-30T19:42:34.347413Z",
          "shell.execute_reply": "2025-07-30T19:42:34.366227Z"
        },
        "id": "c1_lygT5_z1L"
      },
      "outputs": [],
      "execution_count": null
    },
    {
      "cell_type": "markdown",
      "source": [
        "Transmission type does affect car price significantly"
      ],
      "metadata": {
        "id": "GrxUYg2E_z1L"
      }
    },
    {
      "cell_type": "code",
      "source": [
        "#checking relation between price and year\n",
        "sns.boxplot(data=df,x='year',y='price')\n",
        "plt.xticks(rotation=90)\n",
        "plt.show()"
      ],
      "metadata": {
        "trusted": true,
        "execution": {
          "iopub.status.busy": "2025-07-30T19:47:38.685415Z",
          "iopub.execute_input": "2025-07-30T19:47:38.685707Z",
          "iopub.status.idle": "2025-07-30T19:47:39.290885Z",
          "shell.execute_reply.started": "2025-07-30T19:47:38.685686Z",
          "shell.execute_reply": "2025-07-30T19:47:39.289912Z"
        },
        "id": "P7CSJnUx_z1M"
      },
      "outputs": [],
      "execution_count": null
    },
    {
      "cell_type": "markdown",
      "source": [
        "newer car -> more price"
      ],
      "metadata": {
        "id": "6uj8cu0s_z1M"
      }
    },
    {
      "cell_type": "code",
      "source": [
        "#checking relation between mileage and price\n",
        "sns.scatterplot(data = df,x='mileage',y='price')\n",
        "plt.show()"
      ],
      "metadata": {
        "trusted": true,
        "execution": {
          "iopub.status.busy": "2025-07-30T19:49:11.593083Z",
          "iopub.execute_input": "2025-07-30T19:49:11.593385Z",
          "iopub.status.idle": "2025-07-30T19:49:11.806299Z",
          "shell.execute_reply.started": "2025-07-30T19:49:11.593363Z",
          "shell.execute_reply": "2025-07-30T19:49:11.805369Z"
        },
        "id": "ihxHS5Ni_z1Q"
      },
      "outputs": [],
      "execution_count": null
    },
    {
      "cell_type": "markdown",
      "source": [
        "Sort of negative relation"
      ],
      "metadata": {
        "id": "OYBZhQ7d_z1Q"
      }
    },
    {
      "cell_type": "code",
      "source": [
        "#checking relation of engineSize and price\n",
        "sns.boxplot(data=df,x='engineSize',y='price')\n",
        "plt.xticks(rotation=90)\n",
        "plt.show()"
      ],
      "metadata": {
        "trusted": true,
        "execution": {
          "iopub.status.busy": "2025-07-30T19:49:59.80349Z",
          "iopub.execute_input": "2025-07-30T19:49:59.803977Z",
          "iopub.status.idle": "2025-07-30T19:50:00.069027Z",
          "shell.execute_reply.started": "2025-07-30T19:49:59.803948Z",
          "shell.execute_reply": "2025-07-30T19:50:00.068032Z"
        },
        "id": "D1G16z2T_z1Q"
      },
      "outputs": [],
      "execution_count": null
    },
    {
      "cell_type": "code",
      "source": [
        "#checking relation between fueltype and price\n",
        "sns.boxplot(data = df, x = 'fuelType',y = 'price')\n",
        "plt.show()"
      ],
      "metadata": {
        "trusted": true,
        "execution": {
          "iopub.status.busy": "2025-07-30T19:52:57.626159Z",
          "iopub.execute_input": "2025-07-30T19:52:57.627094Z",
          "iopub.status.idle": "2025-07-30T19:52:57.785747Z",
          "shell.execute_reply.started": "2025-07-30T19:52:57.627063Z",
          "shell.execute_reply": "2025-07-30T19:52:57.784679Z"
        },
        "id": "W4f7MtRz_z1Q"
      },
      "outputs": [],
      "execution_count": null
    },
    {
      "cell_type": "code",
      "source": [
        "#check relation between mpg and price\n"
      ],
      "metadata": {
        "trusted": true,
        "id": "M_U5AhIV_z1Q"
      },
      "outputs": [],
      "execution_count": null
    }
  ]
}